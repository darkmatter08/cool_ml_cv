{
 "cells": [
  {
   "cell_type": "markdown",
   "metadata": {},
   "source": [
    "# A basic Naïve Bayes Classifier\n",
    "$p(C_k | x_1, ..., x_n ) = \\frac{p(x_1, ..., x_n | C_k ) * p(C_k)}{p(x_1, ..., x_n)}$\n",
    "\n",
    "$ \\alpha p(x_1, ..., x_n | C_k ) * p(C_k) = p(x_1, ..., x_n | C_k ) * p(C_k) $\n",
    "\n",
    "Independence assumption\n",
    "\n",
    "$ = p(x_1 | C_k) * p(x_2 | C_k) * ... * p(x_n | C_k) * p(C_k) = p(C_k) * \\prod{p(x_i | C_k)}$"
   ]
  },
  {
   "cell_type": "markdown",
   "metadata": {},
   "source": [
    "We will use a naieve bayes classifier for handwritten digits recognition. Each image is 28x28. Each img will be preprocessed into a binary feature map to make learning easier. That is, instead of having grayscale values for each pixel, each pixel will have either a 0 or 1."
   ]
  },
  {
   "cell_type": "markdown",
   "metadata": {},
   "source": [
    "# Load Data"
   ]
  },
  {
   "cell_type": "code",
   "execution_count": 1,
   "metadata": {},
   "outputs": [],
   "source": [
    "import numpy as np\n",
    "import tensorflow as tf\n",
    "import matplotlib.pyplot as plt"
   ]
  },
  {
   "cell_type": "code",
   "execution_count": 2,
   "metadata": {},
   "outputs": [],
   "source": [
    "(x_train, y_train), (x_test, y_test) = tf.keras.datasets.mnist.load_data()"
   ]
  },
  {
   "cell_type": "code",
   "execution_count": 3,
   "metadata": {},
   "outputs": [
    {
     "data": {
      "text/plain": [
       "((60000, 28, 28), (60000,), (10000, 28, 28), (10000,))"
      ]
     },
     "execution_count": 3,
     "metadata": {},
     "output_type": "execute_result"
    }
   ],
   "source": [
    "x_train.shape, y_train.shape, x_test.shape, y_test.shape"
   ]
  },
  {
   "cell_type": "code",
   "execution_count": 4,
   "metadata": {},
   "outputs": [
    {
     "data": {
      "text/plain": [
       "(dtype('uint8'), dtype('uint8'))"
      ]
     },
     "execution_count": 4,
     "metadata": {},
     "output_type": "execute_result"
    }
   ],
   "source": [
    "x_train.dtype, y_train.dtype"
   ]
  },
  {
   "cell_type": "code",
   "execution_count": 5,
   "metadata": {},
   "outputs": [
    {
     "data": {
      "text/plain": [
       "Text(0.5,1,'label: 7')"
      ]
     },
     "execution_count": 5,
     "metadata": {},
     "output_type": "execute_result"
    },
    {
     "data": {
      "image/png": "[encoded data removed]",
      "text/plain": [
       "<Figure size 432x288 with 1 Axes>"
      ]
     },
     "metadata": {},
     "output_type": "display_data"
    }
   ],
   "source": [
    "import random\n",
    "idx = random.randint(0, len(y_train))\n",
    "plt.imshow(x_train[idx])\n",
    "plt.title('label: {}'.format(y_train[idx]))"
   ]
  },
  {
   "cell_type": "code",
   "execution_count": 6,
   "metadata": {},
   "outputs": [
    {
     "name": "stdout",
     "output_type": "stream",
     "text": [
      "image size: (28, 28), classes: [0 1 2 3 4 5 6 7 8 9], n_classes: 10\n"
     ]
    }
   ],
   "source": [
    "imsize = x_train[idx].shape\n",
    "classes, counts = np.unique(y_train, return_counts=True)\n",
    "n_classes = len(classes)\n",
    "print 'image size: {}, classes: {}, n_classes: {}'.format(imsize, classes, n_classes)"
   ]
  },
  {
   "cell_type": "code",
   "execution_count": 7,
   "metadata": {},
   "outputs": [
    {
     "data": {
      "text/plain": [
       "Text(0.5,1,'Counts for each label')"
      ]
     },
     "execution_count": 7,
     "metadata": {},
     "output_type": "execute_result"
    },
    {
     "data": {
      "image/png": "[encoded data removed]",
      "text/plain": [
       "<Figure size 432x288 with 1 Axes>"
      ]
     },
     "metadata": {},
     "output_type": "display_data"
    }
   ],
   "source": [
    "plt.bar(classes, counts)\n",
    "plt.xlabel('Class')\n",
    "plt.ylabel('Counts')\n",
    "plt.title('Counts for each label')"
   ]
  },
  {
   "cell_type": "markdown",
   "metadata": {},
   "source": [
    "## Preprocessing\n",
    "Preprocess each img into a binary feature map."
   ]
  },
  {
   "cell_type": "code",
   "execution_count": 8,
   "metadata": {},
   "outputs": [],
   "source": [
    "def convert_to_binary_featuremap(x_data, threshold=180):\n",
    "    b_x_data = x_data > threshold\n",
    "    return b_x_data"
   ]
  },
  {
   "cell_type": "code",
   "execution_count": 9,
   "metadata": {},
   "outputs": [
    {
     "name": "stdout",
     "output_type": "stream",
     "text": [
      "(60000, 28, 28) bool\n"
     ]
    },
    {
     "data": {
      "text/plain": [
       "Text(0.5,1,'binary img, label: 7')"
      ]
     },
     "execution_count": 9,
     "metadata": {},
     "output_type": "execute_result"
    },
    {
     "data": {
      "image/png": "[encoded data removed]",
      "text/plain": [
       "<Figure size 432x288 with 1 Axes>"
      ]
     },
     "metadata": {},
     "output_type": "display_data"
    },
    {
     "data": {
      "image/png": "[encoded data removed]",
      "text/plain": [
       "<Figure size 432x288 with 1 Axes>"
      ]
     },
     "metadata": {},
     "output_type": "display_data"
    }
   ],
   "source": [
    "b_x_train = convert_to_binary_featuremap(x_train)\n",
    "print b_x_train.shape, b_x_train.dtype\n",
    "plt.figure(); plt.imshow(x_train[idx])\n",
    "plt.title('original img, label: {}'.format(y_train[idx]))\n",
    "plt.figure(); plt.imshow(b_x_train[idx])\n",
    "plt.title('binary img, label: {}'.format(y_train[idx]))"
   ]
  },
  {
   "cell_type": "code",
   "execution_count": 10,
   "metadata": {},
   "outputs": [],
   "source": [
    "b_x_test = convert_to_binary_featuremap(x_test)"
   ]
  },
  {
   "cell_type": "markdown",
   "metadata": {},
   "source": [
    "## Training"
   ]
  },
  {
   "cell_type": "markdown",
   "metadata": {},
   "source": [
    "Training: learn the 28x28 = 784 values of $P(x_i|C_k)$ for each of the 10 classes. Also compute $p(C_k)$. Overall, compute $784*10+1*10 = 7850$ floating point values."
   ]
  },
  {
   "cell_type": "markdown",
   "metadata": {},
   "source": [
    "To learn $p(x_i | C_k)$, we will do the following:\n",
    "Across all imgs of the class $C_j$, for the i-th pixel, compute the probability the pixel is 1. This is the $p(x_i | C_k)$ for a particular i and k pair.\n",
    "Do so for all i,k pairs."
   ]
  },
  {
   "cell_type": "markdown",
   "metadata": {},
   "source": [
    "To learn $p(C_k)$, just count up the number of imgs in class k, and divide by the total number of images. Do so for all classes."
   ]
  },
  {
   "cell_type": "code",
   "execution_count": 11,
   "metadata": {},
   "outputs": [],
   "source": [
    "prob_x_i_given_C_k = np.zeros((n_classes, imsize[0], imsize[1]))\n",
    "prob_C_k = np.zeros((n_classes))\n",
    "\n",
    "for k in classes:\n",
    "    train_imgs_k = b_x_train[y_train == k]\n",
    "    count_is_1_class = np.sum(train_imgs_k == 1, axis=0)\n",
    "    prob_x_i_given_C_k[k] = count_is_1_class / float(train_imgs_k.shape[0])\n",
    "    prob_C_k[k] = len(train_imgs_k) / float(len(x_train))"
   ]
  },
  {
   "cell_type": "code",
   "execution_count": 12,
   "metadata": {},
   "outputs": [],
   "source": [
    "prob_C_k = counts / float(len(x_train))  # alternate defn."
   ]
  },
  {
   "cell_type": "code",
   "execution_count": 13,
   "metadata": {},
   "outputs": [
    {
     "data": {
      "text/plain": [
       "((10, 28, 28), (10,))"
      ]
     },
     "execution_count": 13,
     "metadata": {},
     "output_type": "execute_result"
    }
   ],
   "source": [
    "prob_x_i_given_C_k.shape, prob_C_k.shape"
   ]
  },
  {
   "cell_type": "markdown",
   "metadata": {},
   "source": [
    "Plot the feature map probability of a class k"
   ]
  },
  {
   "cell_type": "code",
   "execution_count": 14,
   "metadata": {
    "scrolled": false
   },
   "outputs": [
    {
     "data": {
      "image/png": "[encoded data removed]",
      "text/plain": [
       "<Figure size 432x288 with 1 Axes>"
      ]
     },
     "metadata": {},
     "output_type": "display_data"
    },
    {
     "data": {
      "image/png": "[encoded data removed]",
      "text/plain": [
       "<Figure size 432x288 with 1 Axes>"
      ]
     },
     "metadata": {},
     "output_type": "display_data"
    },
    {
     "data": {
      "image/png": "[encoded data removed]",
      "text/plain": [
       "<Figure size 432x288 with 1 Axes>"
      ]
     },
     "metadata": {},
     "output_type": "display_data"
    },
    {
     "data": {
      "image/png": "[encoded data removed]",
      "text/plain": [
       "<Figure size 432x288 with 1 Axes>"
      ]
     },
     "metadata": {},
     "output_type": "display_data"
    },
    {
     "data": {
      "image/png": "[encoded data removed]",
      "text/plain": [
       "<Figure size 432x288 with 1 Axes>"
      ]
     },
     "metadata": {},
     "output_type": "display_data"
    },
    {
     "data": {
      "image/png": "[encoded data removed]",
      "text/plain": [
       "<Figure size 432x288 with 1 Axes>"
      ]
     },
     "metadata": {},
     "output_type": "display_data"
    },
    {
     "data": {
      "image/png": "[encoded data removed]",
      "text/plain": [
       "<Figure size 432x288 with 1 Axes>"
      ]
     },
     "metadata": {},
     "output_type": "display_data"
    },
    {
     "data": {
      "image/png": "[encoded data removed]",
      "text/plain": [
       "<Figure size 432x288 with 1 Axes>"
      ]
     },
     "metadata": {},
     "output_type": "display_data"
    },
    {
     "data": {
      "image/png": "[encoded data removed]",
      "text/plain": [
       "<Figure size 432x288 with 1 Axes>"
      ]
     },
     "metadata": {},
     "output_type": "display_data"
    },
    {
     "data": {
      "image/png": "[encoded data removed]",
      "text/plain": [
       "<Figure size 432x288 with 1 Axes>"
      ]
     },
     "metadata": {},
     "output_type": "display_data"
    }
   ],
   "source": [
    "for k in classes:\n",
    "    plt.figure()\n",
    "    plt.imshow(prob_x_i_given_C_k[k,...] * prob_C_k[k])"
   ]
  },
  {
   "cell_type": "markdown",
   "metadata": {},
   "source": [
    "## Testing"
   ]
  },
  {
   "cell_type": "markdown",
   "metadata": {},
   "source": [
    "Inference is easy. Just do $ argmax_K (p(C_k) * \\prod{p(x_i | C_k)})$"
   ]
  },
  {
   "cell_type": "markdown",
   "metadata": {},
   "source": [
    "#### Evaluate on a single random img from the test set"
   ]
  },
  {
   "cell_type": "code",
   "execution_count": 15,
   "metadata": {},
   "outputs": [
    {
     "data": {
      "text/plain": [
       "Text(0.5,1,'label: 5')"
      ]
     },
     "execution_count": 15,
     "metadata": {},
     "output_type": "execute_result"
    },
    {
     "data": {
      "image/png": "[encoded data removed]",
      "text/plain": [
       "<Figure size 432x288 with 1 Axes>"
      ]
     },
     "metadata": {},
     "output_type": "display_data"
    }
   ],
   "source": [
    "idx = random.randint(0, len(y_test))\n",
    "img = b_x_test[idx]\n",
    "label = y_test[idx]\n",
    "plt.imshow(img); plt.title('label: {}'.format(label))"
   ]
  },
  {
   "cell_type": "markdown",
   "metadata": {},
   "source": [
    "TODO: Think about a fast way to vectorize this computation."
   ]
  },
  {
   "cell_type": "code",
   "execution_count": 16,
   "metadata": {},
   "outputs": [
    {
     "name": "stdout",
     "output_type": "stream",
     "text": [
      "best estimate (soft): 5\n",
      "best estimate: 5\n"
     ]
    }
   ],
   "source": [
    "def get_best_estimate(img, soft=False):\n",
    "    \"\"\" Get the best class estimate of the img.\n",
    "    If soft=True, get a vector with a normalized weight for each class.\"\"\"\n",
    "    results = np.zeros(n_classes, dtype=np.float64)\n",
    "    for k in classes:\n",
    "        # add a small value to avoid divide by zero errors\n",
    "        oneprob = prob_x_i_given_C_k[k, img == 1] + np.finfo(np.float64).eps\n",
    "        zeroprob = 1 - prob_x_i_given_C_k[k, img == 0]\n",
    "\n",
    "        results[k] = np.sum(np.log(oneprob)) + np.sum(np.log(zeroprob)) + np.log(prob_C_k[k])\n",
    "\n",
    "    if soft:\n",
    "        results -= np.min(results) - 1\n",
    "        results = results / np.max(results)\n",
    "        return results\n",
    "    return np.argmax(results)\n",
    "\n",
    "soft_est = get_best_estimate(img, soft=True)\n",
    "print 'best estimate (soft): {}'.format(np.argmax(soft_est))\n",
    "print 'best estimate: {}'.format(get_best_estimate(img))"
   ]
  },
  {
   "cell_type": "markdown",
   "metadata": {},
   "source": [
    "#### Evalute on the whole test set"
   ]
  },
  {
   "cell_type": "code",
   "execution_count": 17,
   "metadata": {},
   "outputs": [
    {
     "data": {
      "text/plain": [
       "array([7, 2, 1, ..., 9, 8, 6])"
      ]
     },
     "execution_count": 17,
     "metadata": {},
     "output_type": "execute_result"
    }
   ],
   "source": [
    "y_hat_test = np.asarray(map(get_best_estimate, b_x_test))\n",
    "y_hat_test"
   ]
  },
  {
   "cell_type": "code",
   "execution_count": 18,
   "metadata": {
    "scrolled": true
   },
   "outputs": [
    {
     "name": "stdout",
     "output_type": "stream",
     "text": [
      "Overall: 1583 / 10000 mis-inferences; 15.83% mis-inferences\n"
     ]
    }
   ],
   "source": [
    "mismatches = np.count_nonzero(y_hat_test != y_test)\n",
    "print 'Overall: {} / {} mis-inferences; {}% mis-inferences'.format(\n",
    "    mismatches, len(y_test), mismatches / float(len(y_test)) * 100)"
   ]
  },
  {
   "cell_type": "code",
   "execution_count": 19,
   "metadata": {},
   "outputs": [
    {
     "name": "stdout",
     "output_type": "stream",
     "text": [
      "Class 0:  980 / 10000 mis-inferences; 09.80% mis-inferences\n",
      "Class 1: 1135 / 10000 mis-inferences; 11.35% mis-inferences\n",
      "Class 2: 1032 / 10000 mis-inferences; 10.32% mis-inferences\n",
      "Class 3: 1010 / 10000 mis-inferences; 10.10% mis-inferences\n",
      "Class 4:  982 / 10000 mis-inferences; 09.82% mis-inferences\n",
      "Class 5:  892 / 10000 mis-inferences; 08.92% mis-inferences\n",
      "Class 6:  958 / 10000 mis-inferences; 09.58% mis-inferences\n",
      "Class 7: 1028 / 10000 mis-inferences; 10.28% mis-inferences\n",
      "Class 8:  974 / 10000 mis-inferences; 09.74% mis-inferences\n",
      "Class 9: 1009 / 10000 mis-inferences; 10.09% mis-inferences\n"
     ]
    }
   ],
   "source": [
    "for k in classes:\n",
    "    mismatches = len(y_hat_test[y_test == k] != k)\n",
    "    print 'Class {}: {:4d} / {} mis-inferences; {:05.2f}% mis-inferences'.format(\n",
    "        k, mismatches, len(y_test == k), mismatches / float(len(y_test == k)) * 100)"
   ]
  },
  {
   "cell_type": "markdown",
   "metadata": {},
   "source": [
    "Create a confusion matrix"
   ]
  },
  {
   "cell_type": "code",
   "execution_count": 20,
   "metadata": {},
   "outputs": [
    {
     "data": {
      "text/plain": [
       "(10, 10)"
      ]
     },
     "execution_count": 20,
     "metadata": {},
     "output_type": "execute_result"
    }
   ],
   "source": [
    "confusion = np.zeros((n_classes, n_classes), dtype=np.int)\n",
    "for true_class, inferred_class in zip(y_test, y_hat_test):\n",
    "    confusion[true_class, inferred_class] += 1\n",
    "confusion.shape"
   ]
  },
  {
   "cell_type": "code",
   "execution_count": 21,
   "metadata": {},
   "outputs": [
    {
     "data": {
      "text/plain": [
       "Text(0.5,0,'inferred class')"
      ]
     },
     "execution_count": 21,
     "metadata": {},
     "output_type": "execute_result"
    },
    {
     "data": {
      "image/png": "[encoded data removed]",
      "text/plain": [
       "<Figure size 432x288 with 1 Axes>"
      ]
     },
     "metadata": {},
     "output_type": "display_data"
    }
   ],
   "source": [
    "plt.imshow(np.log(confusion+1))\n",
    "plt.title('Confusion matrix (log)')\n",
    "plt.ylabel('GT')\n",
    "plt.xlabel('inferred class')"
   ]
  }
 ],
 "metadata": {
  "kernelspec": {
   "display_name": "Python 2",
   "language": "python",
   "name": "python2"
  },
  "language_info": {
   "codemirror_mode": {
    "name": "ipython",
    "version": 2
   },
   "file_extension": ".py",
   "mimetype": "text/x-python",
   "name": "python",
   "nbconvert_exporter": "python",
   "pygments_lexer": "ipython2",
   "version": "2.7.10"
  }
 },
 "nbformat": 4,
 "nbformat_minor": 2
}
